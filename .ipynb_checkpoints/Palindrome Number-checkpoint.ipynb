{
 "cells": [
  {
   "cell_type": "code",
   "execution_count": 1,
   "id": "f75e66a8",
   "metadata": {},
   "outputs": [
    {
     "name": "stdout",
     "output_type": "stream",
     "text": [
      "1221\n",
      "true\n"
     ]
    }
   ],
   "source": [
    "n=int(input())  \n",
    "# taking n as a input \n",
    "## write your code !!\n",
    "org = n\n",
    "rev = 0\n",
    "while(n>0):\n",
    "    a = n%10\n",
    "    rev = rev * 10 + a\n",
    "    n=n//10\n",
    "\n",
    "if(org == rev):\n",
    "    print(\"true\")\n",
    "else:\n",
    "    print(\"false\")"
   ]
  },
  {
   "cell_type": "code",
   "execution_count": null,
   "id": "714354ca",
   "metadata": {},
   "outputs": [],
   "source": []
  }
 ],
 "metadata": {
  "kernelspec": {
   "display_name": "Python 3 (ipykernel)",
   "language": "python",
   "name": "python3"
  },
  "language_info": {
   "codemirror_mode": {
    "name": "ipython",
    "version": 3
   },
   "file_extension": ".py",
   "mimetype": "text/x-python",
   "name": "python",
   "nbconvert_exporter": "python",
   "pygments_lexer": "ipython3",
   "version": "3.9.13"
  }
 },
 "nbformat": 4,
 "nbformat_minor": 5
}
