{
 "cells": [
  {
   "cell_type": "code",
   "execution_count": 1,
   "id": "50dac0d8",
   "metadata": {},
   "outputs": [
    {
     "name": "stdout",
     "output_type": "stream",
     "text": [
      "10\n",
      "55\n"
     ]
    }
   ],
   "source": [
    "#Fibonacci number\n",
    "\n",
    "from math import *\n",
    "from collections import *\n",
    "from sys import *\n",
    "from os import *\n",
    "\n",
    "## Read input as specified in the question.\n",
    "## Print output as specified in the question.\n",
    "\n",
    "# n = int(input())\n",
    "# def Fibonacci(n):\n",
    "#     if n<0:\n",
    "#         print(\"Incorrect\")\n",
    "#     elif n==0:\n",
    "#         return (0)\n",
    "#     elif n==1:\n",
    "#         return (1)\n",
    "#     else:\n",
    "#         return Fibonacci(n-1)+Fibonacci(n-2)\n",
    "\n",
    "# print(Fibonacci(n))\n",
    "\n",
    "n = int(input())\n",
    "\n",
    "a = 0\n",
    "b= 1\n",
    "\n",
    "c=-1\n",
    "for i in range(n):\n",
    "    c=a+b\n",
    "    a=b\n",
    "    b=c\n",
    "\n",
    "print(a)"
   ]
  },
  {
   "cell_type": "code",
   "execution_count": null,
   "id": "9fce55ea",
   "metadata": {},
   "outputs": [],
   "source": []
  }
 ],
 "metadata": {
  "kernelspec": {
   "display_name": "Python 3 (ipykernel)",
   "language": "python",
   "name": "python3"
  },
  "language_info": {
   "codemirror_mode": {
    "name": "ipython",
    "version": 3
   },
   "file_extension": ".py",
   "mimetype": "text/x-python",
   "name": "python",
   "nbconvert_exporter": "python",
   "pygments_lexer": "ipython3",
   "version": "3.9.13"
  }
 },
 "nbformat": 4,
 "nbformat_minor": 5
}
