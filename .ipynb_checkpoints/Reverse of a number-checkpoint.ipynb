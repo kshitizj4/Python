{
 "cells": [
  {
   "cell_type": "code",
   "execution_count": null,
   "id": "afde6e8f",
   "metadata": {},
   "outputs": [],
   "source": [
    "#Write Your Code Here\n",
    "n = int(input())\n",
    "\n",
    "rev = 0\n",
    "while(n>0):\n",
    "    a = n%10\n",
    "    rev = rev *10 + a\n",
    "    n = n//10\n",
    "print(rev)"
   ]
  }
 ],
 "metadata": {
  "kernelspec": {
   "display_name": "Python 3 (ipykernel)",
   "language": "python",
   "name": "python3"
  },
  "language_info": {
   "codemirror_mode": {
    "name": "ipython",
    "version": 3
   },
   "file_extension": ".py",
   "mimetype": "text/x-python",
   "name": "python",
   "nbconvert_exporter": "python",
   "pygments_lexer": "ipython3",
   "version": "3.9.13"
  }
 },
 "nbformat": 4,
 "nbformat_minor": 5
}
