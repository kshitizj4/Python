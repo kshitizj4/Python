{
 "cells": [
  {
   "cell_type": "code",
   "execution_count": 1,
   "id": "09d554e5",
   "metadata": {},
   "outputs": [],
   "source": [
    "def printTable(start,end,step):\n",
    "\tcurrentValue = start\n",
    "\twhile(currentValue<=end):\n",
    "\t\tfvalue = int((5/9) * (currentValue - 32))\n",
    "\t\tprint(currentValue, end=\"\\t\")\n",
    "\t\tprint(fvalue)\n",
    "\t\tcurrentValue += step"
   ]
  },
  {
   "cell_type": "code",
   "execution_count": 2,
   "id": "9a25fd5a",
   "metadata": {},
   "outputs": [
    {
     "name": "stdout",
     "output_type": "stream",
     "text": [
      "34\n",
      "98\n",
      "5\n",
      "34\t1\n",
      "39\t3\n",
      "44\t6\n",
      "49\t9\n",
      "54\t12\n",
      "59\t15\n",
      "64\t17\n",
      "69\t20\n",
      "74\t23\n",
      "79\t26\n",
      "84\t28\n",
      "89\t31\n",
      "94\t34\n"
     ]
    }
   ],
   "source": [
    "s = int(input())\n",
    "e = int(input())\n",
    "step = int(input())\n",
    "printTable(s,e,step)\n",
    "\n"
   ]
  },
  {
   "cell_type": "code",
   "execution_count": null,
   "id": "be185067",
   "metadata": {},
   "outputs": [],
   "source": []
  }
 ],
 "metadata": {
  "kernelspec": {
   "display_name": "Python 3 (ipykernel)",
   "language": "python",
   "name": "python3"
  },
  "language_info": {
   "codemirror_mode": {
    "name": "ipython",
    "version": 3
   },
   "file_extension": ".py",
   "mimetype": "text/x-python",
   "name": "python",
   "nbconvert_exporter": "python",
   "pygments_lexer": "ipython3",
   "version": "3.9.13"
  }
 },
 "nbformat": 4,
 "nbformat_minor": 5
}
