{
 "cells": [
  {
   "cell_type": "code",
   "execution_count": 1,
   "id": "b0bef3c9",
   "metadata": {},
   "outputs": [
    {
     "name": "stdout",
     "output_type": "stream",
     "text": [
      "23\n",
      "2 3\n"
     ]
    }
   ],
   "source": [
    "## Note : For printing multiple values in one line, put them inside print separated by space.\n",
    "## You can follow this syntax for printing values of two variables val1 and val2 separaetd by space -\n",
    "## print(val1, \" \", val2)\n",
    "\n",
    "n = int(input())\n",
    "sum = 0\n",
    "sum_odd = 0\n",
    "# while(n>0):\n",
    "#     digit= n%10\n",
    "#     if digit%2==0:\n",
    "#         sum = sum + digit;\n",
    "#     n=n//10\n",
    "\n",
    "while(n>0):\n",
    "    digit= n%10\n",
    "    if digit%2==1:\n",
    "        sum_odd = sum_odd +digit\n",
    "    else:\n",
    "        sum = sum+digit\n",
    "    n=n//10\n",
    "\n",
    "print(sum, sum_odd)"
   ]
  },
  {
   "cell_type": "code",
   "execution_count": null,
   "id": "8942d2fe",
   "metadata": {},
   "outputs": [],
   "source": []
  }
 ],
 "metadata": {
  "kernelspec": {
   "display_name": "Python 3 (ipykernel)",
   "language": "python",
   "name": "python3"
  },
  "language_info": {
   "codemirror_mode": {
    "name": "ipython",
    "version": 3
   },
   "file_extension": ".py",
   "mimetype": "text/x-python",
   "name": "python",
   "nbconvert_exporter": "python",
   "pygments_lexer": "ipython3",
   "version": "3.9.13"
  }
 },
 "nbformat": 4,
 "nbformat_minor": 5
}
